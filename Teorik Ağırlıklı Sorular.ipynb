{
 "cells": [
  {
   "cell_type": "markdown",
   "id": "f2ba4254-d7f6-4291-aa73-e111ea495ef0",
   "metadata": {},
   "source": [
    "# Ka|Ve 2023 - Yapay Zeka MasterClass Eğitimi - Seçme Sınav Soruları - Teorik Ağırlıklı Sorular"
   ]
  },
  {
   "cell_type": "markdown",
   "id": "779990fe-173f-4bc6-b9ab-63852078cdad",
   "metadata": {},
   "source": [
    "# Soru-1\n",
    "\n",
    "Bu çalışma kapsamında sizden Model küçültme (Knowledge Distillation, parameter sharing, quantisaiton, matrix factorization vb..) teknikleri hakkında 4 sayfalık bir literatür taraması hazırlayın. \n",
    "\n",
    "### Önemli Not: Başvuru kabulü için size sorulan soruyu çözmenizden çok, o soruyu çözmek için ne kadar uğraştığınız önemlidir. Motivasyonu yüksek gençlerle çalışmak çok farklı, bunu biliyoruz, sizi önemsiyoruz ve bekliyoruz.\n",
    "\n",
    "### Soru İçeriği\n",
    "1. Konunun belirlenmesi\n",
    "2. Literatür taramasının hazırlanması\n",
    "3. Araştırmanın github'a yüklenmesi\n",
    "\n",
    "### Notlar\n",
    "1. Bu literatür taramasını latex'te hazırlamanız artı puan olarak yazılacaktır. "
   ]
  },
  {
   "cell_type": "code",
   "execution_count": null,
   "id": "a8b16b78-957f-4f92-80b5-904509752b48",
   "metadata": {},
   "outputs": [],
   "source": []
  },
  {
   "cell_type": "markdown",
   "id": "183e3394-3bf3-441a-8b6b-23e0f2566a3f",
   "metadata": {},
   "source": [
    "# Soru-2\n",
    "\n",
    "Bu çalışma kapsamında sizden Transformer tabanlı modeller hakkında son 3 yıl içinde çıkmış farklı iki makalenin özetini yazmanızı bekliyorum. \n",
    "\n",
    "### Önemli Not: Başvuru kabulü için size sorulan soruyu çözmenizden çok, o soruyu çözmek için ne kadar uğraştığınız önemlidir. Motivasyonu yüksek gençlerle çalışmak çok farklı, bunu biliyoruz, sizi önemsiyoruz ve bekliyoruz.\n",
    "\n",
    "### Soru İçeriği\n",
    "1. Makalelerin belirlenmesi\n",
    "2. Özetlerin yazılması\n",
    "3. Özetin github'a yüklenmesi\n",
    "\n",
    "### Notlar\n",
    "1. Bu literatür taramasını latex'te hazırlamanız artı puan olarak yazılacaktır. "
   ]
  },
  {
   "cell_type": "code",
   "execution_count": null,
   "id": "180b0dd6-8f2c-42f3-84cc-42adf4a05a80",
   "metadata": {},
   "outputs": [],
   "source": []
  }
 ],
 "metadata": {
  "kernelspec": {
   "display_name": "Python 3 (ipykernel)",
   "language": "python",
   "name": "python3"
  },
  "language_info": {
   "codemirror_mode": {
    "name": "ipython",
    "version": 3
   },
   "file_extension": ".py",
   "mimetype": "text/x-python",
   "name": "python",
   "nbconvert_exporter": "python",
   "pygments_lexer": "ipython3",
   "version": "3.11.3"
  }
 },
 "nbformat": 4,
 "nbformat_minor": 5
}
