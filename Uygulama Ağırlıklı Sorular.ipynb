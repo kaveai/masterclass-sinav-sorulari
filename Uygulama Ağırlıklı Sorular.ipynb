{
 "cells": [
  {
   "cell_type": "markdown",
   "id": "1bc27a18-fbe7-4cd4-b803-b13211e11d70",
   "metadata": {},
   "source": [
    "# Ka|Ve 2023 - Yapay Zeka MasterClass Eğitimi - Seçme Sınav Soruları - Uygulamalı Ağırlıklı Sorular"
   ]
  },
  {
   "cell_type": "markdown",
   "id": "e3766fb3-4f92-467a-823b-b5440d7b0124",
   "metadata": {
    "tags": []
   },
   "source": [
    "# Soru-1\n",
    "\n",
    "Bu çalışma kapsamında sizden belirlediğiniz bir verisetinde bir makine öğrenmesi modeli kurmanız ardından bu modeli bir uygulamaya çevirip, dockerize edip bir bulut bilişimde canlıya almanızı bekliyoruz. Ardından bütün kodunuzu dokümante ederek github'a yüklemenizi istiyoruz. \n",
    "\n",
    "### Önemli Not: Başvuru kabulü için size sorulan soruyu çözmenizden çok, o soruyu çözmek için ne kadar uğraştığınız önemlidir. Motivasyonu yüksek gençlerle çalışmak çok farklı, bunu biliyoruz, sizi önemsiyoruz ve bekliyoruz.\n",
    "\n",
    "\n",
    "### Soru İçeriği\n",
    "1. Herhangi bir verisetini kullanarak bir makine öğrenme algoritmasının kurulması\n",
    "2. Bu makine öğrenme algoritmasının streamlit veya farklı bir framework ile bir uygulamaya dönüştürülmesi\n",
    "3. Uygulamanın dockerize edilmesi\n",
    "4. Dockerize edilen uygulamanın herhangi bir bulut bilişim servisinde canlıya alınması\n",
    "5. Kodların github'a yüklenip dokümante edilmesi\n",
    "\n",
    "### Kaynaklar\n",
    "1. [Streamlit ile Makine Öğrenmesi Uygulaması Örneği](https://towardsdatascience.com/building-a-machine-learning-web-application-using-streamlit-8c3d942f7b35)\n",
    "2. [Streamlit Uygulamasının AWS üzerinde Canlıya Alınması & Dockerize Edilmesi](https://docs.streamlit.io/knowledge-base/deploy/deploy-streamlit-heroku-aws-google-cloud)\n",
    "\n",
    "\n",
    "### Notlar\n",
    "- AWS, GCloud üzerinde ilk denemeler için ücretsiz servisler var bu servisleri kullanabilirsiniz. Aynı zamanda [Github Student Pack](https://education.github.com/pack) kapsamında Digital Ocean, Azure için ücretsiz kredi tanımlaması bulunuyor. \n",
    "\n",
    "- Uygulamada bir parçasını yapamasanız bile (Örneğin dockerize edemediniz ama bir serviste canlıya aldınız) buda bizim için uygundur. Kritik olan kısım çabanız ve motivasyonunuzdur. "
   ]
  },
  {
   "cell_type": "code",
   "execution_count": null,
   "id": "6167c6b4-0927-46ca-a18e-78289ad59290",
   "metadata": {},
   "outputs": [],
   "source": []
  },
  {
   "cell_type": "markdown",
   "id": "ae9afaf0-d871-4062-809e-39b635ff7ddf",
   "metadata": {},
   "source": [
    "# Soru-2\n",
    "\n",
    "Bu çalışma kapsamında sizden belirlediğiniz Kaggle ya da farklı blog'lar üzerinde ilginizi çeken, pytorch kütüphanesini kullanarak Transformer tabanlı (BERT, GPT, T5, MT5, vs.) bir jupyter notebook'u çalıştırmanızı ve bunu github'a yükleyerek bize göndermenizi bekliyoruz. \n",
    "\n",
    "### Önemli Not: Başvuru kabulü için size sorulan soruyu çözmenizden çok, o soruyu çözmek için ne kadar uğraştığınız önemlidir. Motivasyonu yüksek gençlerle çalışmak çok farklı, bunu biliyoruz, sizi önemsiyoruz ve bekliyoruz.\n",
    "\n",
    "\n",
    "### Soru İçeriği\n",
    "1. Kaggle veya farklı bir kaynaktan içerisinde Pytorch kütüphanesini kullanarak Transformer tabanlı bir model üreten notebook'un bulunup çalıştırılması\n",
    "2. Kodların github'a yüklenip dokümante edilmesi\n",
    "\n",
    "### Kaynaklar\n",
    "1. [Örnek T5 Eğitimi](https://www.kaggle.com/code/kreeshrajani/fine-tune-t5-for-conversational-model)\n",
    "2. [Transformer Modellerinin Eğitimini Kolaylaştıran HappyTransformers](https://pypi.org/project/happytransformer/)"
   ]
  },
  {
   "cell_type": "code",
   "execution_count": null,
   "id": "9378f5a0-e22c-453a-89e7-dbb148eb57a4",
   "metadata": {},
   "outputs": [],
   "source": []
  }
 ],
 "metadata": {
  "kernelspec": {
   "display_name": "Python 3 (ipykernel)",
   "language": "python",
   "name": "python3"
  },
  "language_info": {
   "codemirror_mode": {
    "name": "ipython",
    "version": 3
   },
   "file_extension": ".py",
   "mimetype": "text/x-python",
   "name": "python",
   "nbconvert_exporter": "python",
   "pygments_lexer": "ipython3",
   "version": "3.11.3"
  }
 },
 "nbformat": 4,
 "nbformat_minor": 5
}
